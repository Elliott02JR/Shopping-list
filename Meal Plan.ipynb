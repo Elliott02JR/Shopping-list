{
 "cells": [
  {
   "cell_type": "code",
   "execution_count": 86,
   "id": "e6482a96",
   "metadata": {},
   "outputs": [
    {
     "name": "stdout",
     "output_type": "stream",
     "text": [
      "1. Menu\n",
      "2. Add Recipe\n",
      "3. Remove Recipie\n",
      "4. Meal Plan\n",
      "5. Shopping list\n",
      "What recipe would you like to add? Type Exit when you want to finishCurry\n",
      "Please enter ingridient 1Chicken\n",
      "Please enter Weight 1250\n",
      "Please enter ingridient 2Beans\n",
      "Please enter Weight 22\n",
      "Please enter ingridient 3Exit\n",
      "{'Curry':   Ingredients Weight\n",
      "0     Chicken    250\n",
      "1       Beans      2}\n"
     ]
    }
   ],
   "source": [
    "import pandas as pd\n",
    "import numpy as np\n",
    "\n",
    "recipie_dict = {}\n",
    "\n",
    "def Display_menu():\n",
    "    print(\"1. Menu\")\n",
    "    print(\"2. Add Recipe\")\n",
    "    print(\"3. Remove Recipie\")\n",
    "    print(\"4. Meal Plan\")\n",
    "    print(\"5. Shopping list\")\n",
    "\n",
    "def add_recipie(Recipie_dict):\n",
    "    variables_ing = {}\n",
    "    variables_weight = {}\n",
    "    ingredients = {\"Ingredients\":[],\"Weight\":[]}\n",
    "    ingredients = pd.DataFrame(data = ingredients)\n",
    "    \n",
    "    recipie = input(\"What recipe would you like to add? Type Exit when you want to finish\")\n",
    "    if recipie == \"Exit\":\n",
    "        return\n",
    "    for i in range(1,100):\n",
    "        variables_ing[f\"ing_{i}\"] = input(\"Please enter ingridient \" + str(i))\n",
    "        if variables_ing[f\"ing_{i}\"] == \"Exit\":\n",
    "            break \n",
    "\n",
    "        variables_weight[f\"weight_{i}\"] = input(\"Please enter Weight \" + str(i))\n",
    "        if variables_weight[f\"weight_{i}\"] == \"Exit\" :\n",
    "            break\n",
    "        ingredients.loc[len(ingredients)] = {\"Ingredients\":variables_ing[f\"ing_{i}\"],\"Weight\":variables_weight[f\"weight_{i}\"]}\n",
    "    recipie_dict[recipie] = ingredients\n",
    "    return recipie_dict\n",
    "            \n",
    "        \n",
    "\n",
    "Display_menu()\n",
    "a = add_recipie(recipie_dict)\n",
    "\n",
    "print (recipie_dict)"
   ]
  },
  {
   "cell_type": "code",
   "execution_count": 91,
   "id": "6c0e7b3b",
   "metadata": {},
   "outputs": [
    {
     "name": "stdout",
     "output_type": "stream",
     "text": [
      "Beans 2\n"
     ]
    }
   ],
   "source": [
    "print (recipie_dict[\"Curry\"][\"Ingredients\"][1],recipie_dict[\"Curry\"][\"Weight\"][1])"
   ]
  },
  {
   "cell_type": "code",
   "execution_count": 70,
   "id": "1fafa574",
   "metadata": {},
   "outputs": [
    {
     "name": "stdout",
     "output_type": "stream",
     "text": [
      "  Ingredients Weight\n",
      "0           b    100\n",
      "1           c    150\n",
      "2           d      1\n",
      "3           b    100\n",
      "c\n"
     ]
    }
   ],
   "source": [
    "a = {\"Ingredients\":[\"b\",\"c\",\"d\"],\"Weight\":[\"100\",\"150\",\"1\"]}\n",
    "b = pd.DataFrame(data=a)\n",
    "b.loc[len(b)] = {\"Ingredients\":\"b\",\"Weight\":\"100\"}\n",
    "print(b)\n",
    "\n",
    "print(b[\"Ingredients\"][1])\n"
   ]
  },
  {
   "cell_type": "code",
   "execution_count": 58,
   "id": "0f15c0ca",
   "metadata": {},
   "outputs": [
    {
     "name": "stdout",
     "output_type": "stream",
     "text": [
      "Empty DataFrame\n",
      "Columns: [Ingredients, Weight]\n",
      "Index: []\n"
     ]
    }
   ],
   "source": [
    "ingredients = {\"Ingredients\":[],\"Weight\":[]}\n",
    "ingredients = pd.DataFrame(data = ingredients)\n",
    "print(ingredients)"
   ]
  },
  {
   "cell_type": "code",
   "execution_count": null,
   "id": "904d2475",
   "metadata": {},
   "outputs": [],
   "source": []
  }
 ],
 "metadata": {
  "kernelspec": {
   "display_name": "Python 3 (ipykernel)",
   "language": "python",
   "name": "python3"
  },
  "language_info": {
   "codemirror_mode": {
    "name": "ipython",
    "version": 3
   },
   "file_extension": ".py",
   "mimetype": "text/x-python",
   "name": "python",
   "nbconvert_exporter": "python",
   "pygments_lexer": "ipython3",
   "version": "3.11.5"
  }
 },
 "nbformat": 4,
 "nbformat_minor": 5
}
